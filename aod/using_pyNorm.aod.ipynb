{
 "cells": [
  {
   "cell_type": "code",
   "execution_count": 8,
   "metadata": {},
   "outputs": [],
   "source": [
    "# Typical imports here\n",
    "import numpy as np\n",
    "import matplotlib.pyplot as plt\n",
    "import astropy.units as u\n",
    "import astropy.constants as c"
   ]
  },
  {
   "cell_type": "markdown",
   "metadata": {},
   "source": [
    "```\n",
    "\n",
    "```\n",
    "# Load the data from an iNorm save file using `readsav`"
   ]
  },
  {
   "cell_type": "code",
   "execution_count": 9,
   "metadata": {},
   "outputs": [],
   "source": [
    "from scipy.io import readsav\n",
    "\n",
    "input_filename = 'CIV1548.2i_o.save'\n",
    "# input_filename = 'rbs2005_SiII1260_o.save'\n",
    "spec = readsav(input_filename)"
   ]
  },
  {
   "cell_type": "code",
   "execution_count": 10,
   "metadata": {},
   "outputs": [],
   "source": [
    "integration_limits=[spec['v1'],spec['v2']]"
   ]
  },
  {
   "cell_type": "markdown",
   "metadata": {},
   "source": [
    "```\n",
    "\n",
    "```\n",
    "# Load the data from an iNorm save file using `pyNorm`"
   ]
  },
  {
   "cell_type": "code",
   "execution_count": 11,
   "metadata": {},
   "outputs": [],
   "source": [
    "from pyNorm.io import read_inorm\n",
    "\n",
    "input_filename = 'CIV1548.2i_o.save'\n",
    "spec=read_inorm(input_filename)"
   ]
  },
  {
   "cell_type": "markdown",
   "metadata": {},
   "source": [
    "```\n",
    "\n",
    "```\n",
    "# Calculating absorber properties with `pyn_batch`\n",
    "\n",
    "This is a convenience function that does all of the calculations from `pyn_column`, `pyn_eqwidth`, and `pyn_istat`. The details of using the individual procedures are given below."
   ]
  },
  {
   "cell_type": "code",
   "execution_count": 12,
   "metadata": {},
   "outputs": [],
   "source": [
    "from pyNorm.aod import pyn_batch"
   ]
  },
  {
   "cell_type": "markdown",
   "metadata": {},
   "source": [
    "#### Calculate the column density using the velocity limits in the save file"
   ]
  },
  {
   "cell_type": "code",
   "execution_count": 13,
   "metadata": {},
   "outputs": [
    {
     "name": "stdout",
     "output_type": "stream",
     "text": [
      "********** CIV 1548.2 **********\n",
      "pyn_batch: Wavelength = 1548.204\n",
      "pyn_batch: f-value = 0.190\n",
      "\n",
      "Velocity range of integration: -295.0 <= v <= -215.0\n",
      "\n",
      "--------------------------------------------\n",
      "log N = 12.715 (-0.267, +0.267)\n",
      "--------------------------------------------\n",
      "\n",
      "--------------------------------------------\n",
      "<v>       = -270.95  +/- 16.88\n",
      "<b>       =  24.66  +/- 13.27\n",
      "dv90      =  56.87  +/- 23.87\n",
      "Skew      =   0.64  +/- 3.32\n",
      "--------------------------------------------\n",
      "\n",
      "--------------------------------------------\n",
      "EW           = 17.42\n",
      "Stat Error   = 12.09\n",
      "Cont Error   = 1.76\n",
      "Tot Error    = 12.22\n",
      "3sigma EW    < 36.67\n",
      "***** WARNING: LINE NOT DETECTED AT 3 SIGMA! *****\n",
      "\n",
      "\n",
      "Linear COG N = 12.64\n",
      "2sigma N     < 12.78\n",
      "3sigma N     < 12.96\n",
      "--------------------------------------------\n"
     ]
    }
   ],
   "source": [
    "spec_out = pyn_batch(spec)"
   ]
  },
  {
   "cell_type": "markdown",
   "metadata": {},
   "source": [
    "### Do the same calculations, but without printing the results"
   ]
  },
  {
   "cell_type": "code",
   "execution_count": 14,
   "metadata": {},
   "outputs": [],
   "source": [
    "spec_out = pyn_batch(spec,integration_limits, verbose = False)"
   ]
  },
  {
   "cell_type": "code",
   "execution_count": 15,
   "metadata": {},
   "outputs": [
    {
     "data": {
      "text/plain": [
       "(12.71548152402164, 17.42052467650511)"
      ]
     },
     "execution_count": 15,
     "metadata": {},
     "output_type": "execute_result"
    }
   ],
   "source": [
    "spec_out['ncol'],spec_out['EW']"
   ]
  },
  {
   "cell_type": "markdown",
   "metadata": {},
   "source": [
    "### Set the integration limits"
   ]
  },
  {
   "cell_type": "code",
   "execution_count": 16,
   "metadata": {},
   "outputs": [
    {
     "name": "stdout",
     "output_type": "stream",
     "text": [
      "********** CIV 1548.2 **********\n",
      "pyn_batch: Wavelength = 1548.204\n",
      "pyn_batch: f-value = 0.190\n",
      "\n",
      "Velocity range of integration: -200.0 <= v <= 100.0\n",
      "\n",
      "--------------------------------------------\n",
      "log N = 13.921 (-0.037, +0.037)\n",
      "--------------------------------------------\n",
      "\n",
      "--------------------------------------------\n",
      "<v>       = -43.15  +/- 6.68\n",
      "<b>       =  48.98  +/- 6.62\n",
      "dv90      = 165.91  +/- 9.45\n",
      "Skew      =  -0.53  +/- 0.87\n",
      "--------------------------------------------\n",
      "\n",
      "--------------------------------------------\n",
      "EW           = 265.77\n",
      "Stat Error   = 21.91\n",
      "Cont Error   = 5.85\n",
      "Tot Error    = 22.84\n",
      "3sigma EW    < 68.51\n",
      "\n",
      "\n",
      "Linear COG N = 13.82\n",
      "2sigma N     < 13.05\n",
      "3sigma N     < 13.23\n",
      "--------------------------------------------\n"
     ]
    }
   ],
   "source": [
    "integration_limits = [-200,100]\n",
    "spec_out = pyn_batch(spec, integration_limits)"
   ]
  },
  {
   "cell_type": "markdown",
   "metadata": {},
   "source": [
    "```\n",
    "\n",
    "\n",
    "\n",
    "\n",
    "```\n",
    "# Calculating column densities with `pyn_column`"
   ]
  },
  {
   "cell_type": "code",
   "execution_count": 17,
   "metadata": {},
   "outputs": [],
   "source": [
    "from pyNorm.aod import pyn_column"
   ]
  },
  {
   "cell_type": "markdown",
   "metadata": {},
   "source": [
    "### 1. Calculate the column with velocity limits in the save file"
   ]
  },
  {
   "cell_type": "code",
   "execution_count": 18,
   "metadata": {},
   "outputs": [
    {
     "data": {
      "text/plain": [
       "(12.71548152402164, -0.26729178703803785, 0.26729178703803785)"
      ]
     },
     "execution_count": 18,
     "metadata": {},
     "output_type": "execute_result"
    }
   ],
   "source": [
    "spec_out = pyn_column(spec)\n",
    "spec_out['ncol'], spec_out['ncol_err_lo'], spec_out['ncol_err_hi']"
   ]
  },
  {
   "cell_type": "markdown",
   "metadata": {},
   "source": [
    "### 2. Calculate the column with velocity limits from a variable"
   ]
  },
  {
   "cell_type": "code",
   "execution_count": 19,
   "metadata": {},
   "outputs": [
    {
     "data": {
      "text/plain": [
       "(13.093897958798385, -0.15486311615601664, 0.15486311615601664)"
      ]
     },
     "execution_count": 19,
     "metadata": {},
     "output_type": "execute_result"
    }
   ],
   "source": [
    "integration_limits=[-300,-150]\n",
    "\n",
    "spec_out = pyn_column(spec,integration_limits)\n",
    "spec_out['ncol'], spec_out['ncol_err_lo'], spec_out['ncol_err_hi']"
   ]
  },
  {
   "cell_type": "markdown",
   "metadata": {},
   "source": [
    "### 3. Calculate the column with limits passed directly"
   ]
  },
  {
   "cell_type": "code",
   "execution_count": 20,
   "metadata": {},
   "outputs": [
    {
     "data": {
      "text/plain": [
       "(13.229653986262422, -0.07196024006842763, 0.07196024006842763)"
      ]
     },
     "execution_count": 20,
     "metadata": {},
     "output_type": "execute_result"
    }
   ],
   "source": [
    "spec_out = pyn_column(spec,integration_limits = [-100,-50])\n",
    "spec_out['ncol'], spec_out['ncol_err_lo'], spec_out['ncol_err_hi']"
   ]
  },
  {
   "cell_type": "markdown",
   "metadata": {},
   "source": [
    "```\n",
    "\n",
    "```\n",
    "# Calculating column densities with `pyn_eqwidth`"
   ]
  },
  {
   "cell_type": "code",
   "execution_count": 21,
   "metadata": {},
   "outputs": [],
   "source": [
    "from pyNorm.aod import pyn_eqwidth"
   ]
  },
  {
   "cell_type": "markdown",
   "metadata": {},
   "source": [
    "### 1. Calculate the EW with velocity limits in the save file"
   ]
  },
  {
   "cell_type": "code",
   "execution_count": 22,
   "metadata": {},
   "outputs": [
    {
     "data": {
      "text/plain": [
       "(17.42052467650511, 12.223810162578102)"
      ]
     },
     "execution_count": 22,
     "metadata": {},
     "output_type": "execute_result"
    }
   ],
   "source": [
    "spec_out = pyn_eqwidth(spec)\n",
    "spec_out['EW'], spec_out['EW_err']"
   ]
  },
  {
   "cell_type": "markdown",
   "metadata": {},
   "source": [
    "### 2. Calculate the EW with velocity limits from a variable"
   ]
  },
  {
   "cell_type": "code",
   "execution_count": 23,
   "metadata": {},
   "outputs": [
    {
     "data": {
      "text/plain": [
       "(42.86748888757113, 16.687014472510658)"
      ]
     },
     "execution_count": 23,
     "metadata": {},
     "output_type": "execute_result"
    }
   ],
   "source": [
    "integration_limits=[-300,-150]\n",
    "\n",
    "spec_out = pyn_eqwidth(spec,integration_limits)\n",
    "spec_out['EW'], spec_out['EW_err']"
   ]
  },
  {
   "cell_type": "markdown",
   "metadata": {},
   "source": [
    "### 3. Calculate the EW with limits passed directly"
   ]
  },
  {
   "cell_type": "code",
   "execution_count": 24,
   "metadata": {},
   "outputs": [
    {
     "data": {
      "text/plain": [
       "(57.76565536440982, 8.66487823510779)"
      ]
     },
     "execution_count": 24,
     "metadata": {},
     "output_type": "execute_result"
    }
   ],
   "source": [
    "spec_out = pyn_eqwidth(spec,integration_limits = [-100,-50])\n",
    "spec_out['EW'], spec_out['EW_err']"
   ]
  },
  {
   "cell_type": "markdown",
   "metadata": {},
   "source": [
    "### 4. Is the line detected at the 2$\\sigma$ level?"
   ]
  },
  {
   "cell_type": "code",
   "execution_count": 25,
   "metadata": {},
   "outputs": [
    {
     "data": {
      "text/plain": [
       "True"
      ]
     },
     "execution_count": 25,
     "metadata": {},
     "output_type": "execute_result"
    }
   ],
   "source": [
    "spec_out['detection_2sig']"
   ]
  },
  {
   "cell_type": "markdown",
   "metadata": {},
   "source": [
    "#### the 3$\\sigma$ level?"
   ]
  },
  {
   "cell_type": "code",
   "execution_count": 26,
   "metadata": {},
   "outputs": [
    {
     "data": {
      "text/plain": [
       "True"
      ]
     },
     "execution_count": 26,
     "metadata": {},
     "output_type": "execute_result"
    }
   ],
   "source": [
    "spec_out['detection_3sig']"
   ]
  },
  {
   "cell_type": "markdown",
   "metadata": {},
   "source": [
    "```\n",
    "\n",
    "```\n",
    "# Calculating absorber statistics with `pyn_istat`"
   ]
  },
  {
   "cell_type": "code",
   "execution_count": 27,
   "metadata": {},
   "outputs": [],
   "source": [
    "from scipy.io import readsav\n",
    "\n",
    "input_filename = 'CIV1548.2i_o.save'\n",
    "# input_filename = 'rbs2005_SiII1260_o.save'\n",
    "spec = readsav(input_filename)"
   ]
  },
  {
   "cell_type": "code",
   "execution_count": 28,
   "metadata": {},
   "outputs": [],
   "source": [
    "integration_limits=[spec['v1'],spec['v2']]\n",
    "integration_limits=[-200,100]"
   ]
  },
  {
   "cell_type": "code",
   "execution_count": 29,
   "metadata": {},
   "outputs": [],
   "source": [
    "from pyNorm.aod import pyn_eqwidth\n",
    "from pyNorm.aod import pyn_column\n",
    "from pyNorm.aod import pyn_istat"
   ]
  },
  {
   "cell_type": "markdown",
   "metadata": {},
   "source": [
    "#### Calculate the column density using the velocity limits in the save file"
   ]
  },
  {
   "cell_type": "code",
   "execution_count": 30,
   "metadata": {},
   "outputs": [
    {
     "name": "stdout",
     "output_type": "stream",
     "text": [
      "-43.152041764977206 6.679239569289574\n",
      "48.980482611304296 6.616774376670674\n",
      "165.91064653710245 -140.99571442029907 24.91493211680338\n"
     ]
    }
   ],
   "source": [
    "spec_out = pyn_column(spec,integration_limits)\n",
    "spec_out = pyn_eqwidth(spec_out,integration_limits)\n",
    "spec_out = pyn_istat(spec_out,integration_limits)\n",
    "print(spec_out['va'], spec_out['va_err'])\n",
    "print(spec_out['ba'], spec_out['ba_err'])\n",
    "print(spec_out['dv90'], spec_out['v90a'],spec_out['v90b'])"
   ]
  },
  {
   "cell_type": "markdown",
   "metadata": {},
   "source": [
    "```\n",
    "\n",
    "\n",
    "```\n",
    "# Plotting normalized flux, $N_a(v)$ profiles."
   ]
  },
  {
   "cell_type": "code",
   "execution_count": 31,
   "metadata": {},
   "outputs": [
    {
     "ename": "KeyError",
     "evalue": "'fnorm_err'",
     "output_type": "error",
     "traceback": [
      "\u001b[0;31m---------------------------------------------------------------------------\u001b[0m",
      "\u001b[0;31mKeyError\u001b[0m                                  Traceback (most recent call last)",
      "\u001b[0;32m<ipython-input-31-d1a179d967fb>\u001b[0m in \u001b[0;36m<module>\u001b[0;34m\u001b[0m\n\u001b[1;32m      3\u001b[0m \u001b[0mplt\u001b[0m\u001b[0;34m.\u001b[0m\u001b[0mfigure\u001b[0m\u001b[0;34m(\u001b[0m\u001b[0mfigsize\u001b[0m\u001b[0;34m=\u001b[0m\u001b[0;34m(\u001b[0m\u001b[0;36m10\u001b[0m\u001b[0;34m,\u001b[0m\u001b[0;36m6\u001b[0m\u001b[0;34m)\u001b[0m\u001b[0;34m)\u001b[0m\u001b[0;34m\u001b[0m\u001b[0;34m\u001b[0m\u001b[0m\n\u001b[1;32m      4\u001b[0m \u001b[0mplt\u001b[0m\u001b[0;34m.\u001b[0m\u001b[0mplot\u001b[0m\u001b[0;34m(\u001b[0m\u001b[0mspec_out\u001b[0m\u001b[0;34m[\u001b[0m\u001b[0;34m'vnorm'\u001b[0m\u001b[0;34m]\u001b[0m\u001b[0;34m,\u001b[0m\u001b[0mspec_out\u001b[0m\u001b[0;34m[\u001b[0m\u001b[0;34m'fnorm'\u001b[0m\u001b[0;34m]\u001b[0m\u001b[0;34m,\u001b[0m\u001b[0mdrawstyle\u001b[0m\u001b[0;34m=\u001b[0m\u001b[0;34m'steps-mid'\u001b[0m\u001b[0;34m)\u001b[0m\u001b[0;34m\u001b[0m\u001b[0;34m\u001b[0m\u001b[0m\n\u001b[0;32m----> 5\u001b[0;31m \u001b[0mplt\u001b[0m\u001b[0;34m.\u001b[0m\u001b[0mplot\u001b[0m\u001b[0;34m(\u001b[0m\u001b[0mspec_out\u001b[0m\u001b[0;34m[\u001b[0m\u001b[0;34m'vnorm'\u001b[0m\u001b[0;34m]\u001b[0m\u001b[0;34m,\u001b[0m\u001b[0mspec_out\u001b[0m\u001b[0;34m[\u001b[0m\u001b[0;34m'fnorm_err'\u001b[0m\u001b[0;34m]\u001b[0m\u001b[0;34m,\u001b[0m\u001b[0mdrawstyle\u001b[0m\u001b[0;34m=\u001b[0m\u001b[0;34m'steps-mid'\u001b[0m\u001b[0;34m)\u001b[0m\u001b[0;34m\u001b[0m\u001b[0;34m\u001b[0m\u001b[0m\n\u001b[0m\u001b[1;32m      6\u001b[0m \u001b[0;34m\u001b[0m\u001b[0m\n\u001b[1;32m      7\u001b[0m \u001b[0mplt\u001b[0m\u001b[0;34m.\u001b[0m\u001b[0maxhline\u001b[0m\u001b[0;34m(\u001b[0m\u001b[0;36m0\u001b[0m\u001b[0;34m,\u001b[0m\u001b[0mlinestyle\u001b[0m\u001b[0;34m=\u001b[0m\u001b[0;34m':'\u001b[0m\u001b[0;34m,\u001b[0m\u001b[0mcolor\u001b[0m\u001b[0;34m=\u001b[0m\u001b[0;34m'k'\u001b[0m\u001b[0;34m,\u001b[0m\u001b[0mlinewidth\u001b[0m\u001b[0;34m=\u001b[0m\u001b[0;36m1\u001b[0m\u001b[0;34m,\u001b[0m\u001b[0mzorder\u001b[0m\u001b[0;34m=\u001b[0m\u001b[0;36m0\u001b[0m\u001b[0;34m)\u001b[0m\u001b[0;34m\u001b[0m\u001b[0;34m\u001b[0m\u001b[0m\n",
      "\u001b[0;31mKeyError\u001b[0m: 'fnorm_err'"
     ]
    },
    {
     "data": {
      "image/png": "[encoded data removed]",
      "text/plain": [
       "<Figure size 720x432 with 1 Axes>"
      ]
     },
     "metadata": {
      "image/png": {
       "height": 355,
       "width": 592
      },
      "needs_background": "light"
     },
     "output_type": "display_data"
    }
   ],
   "source": [
    "import matplotlib.pyplot as plt\n",
    "\n",
    "plt.figure(figsize=(10,6))\n",
    "plt.plot(spec_out['vnorm'],spec_out['fnorm'],drawstyle='steps-mid')\n",
    "plt.plot(spec_out['vnorm'],spec_out['fnorm_err'],drawstyle='steps-mid')\n",
    "\n",
    "plt.axhline(0,linestyle=':',color='k',linewidth=1,zorder=0)\n",
    "plt.axhline(1,linestyle=':',color='k',linewidth=1,zorder=0)\n",
    "plt.xlabel('Velocity (km/s)')\n",
    "plt.ylabel('Normalized flux')\n",
    "plt.xlim(-400,300)"
   ]
  },
  {
   "cell_type": "code",
   "execution_count": 17,
   "metadata": {},
   "outputs": [
    {
     "data": {
      "text/plain": [
       "(-400.0, 300.0)"
      ]
     },
     "execution_count": 17,
     "metadata": {},
     "output_type": "execute_result"
    },
    {
     "data": {
      "image/png": "[encoded data removed]",
      "text/plain": [
       "<Figure size 720x432 with 1 Axes>"
      ]
     },
     "metadata": {
      "image/png": {
       "height": 380,
       "width": 633
      },
      "needs_background": "light"
     },
     "output_type": "display_data"
    }
   ],
   "source": [
    "import matplotlib.pyplot as plt\n",
    "\n",
    "plt.figure(figsize=(10,6))\n",
    "plt.plot(spec_out['vnorm'],spec_out['Nav'],drawstyle='steps-mid')\n",
    "plt.plot(spec_out['vnorm'],spec_out['Nav_err'],drawstyle='steps-mid')\n",
    "\n",
    "plt.axhline(0,linestyle=':',color='k',linewidth=1,zorder=0)\n",
    "plt.axhline(1,linestyle=':',color='k',linewidth=1,zorder=0)\n",
    "plt.xlabel('Velocity (km/s)')\n",
    "plt.ylabel('$N_a(v)$ (cm$^{-2}$ (km/s)$^{-1}$)')\n",
    "plt.xlim(-400,300)"
   ]
  },
  {
   "cell_type": "code",
   "execution_count": null,
   "metadata": {},
   "outputs": [],
   "source": []
  }
 ],
 "metadata": {
  "kernelspec": {
   "display_name": "Python 3",
   "language": "python",
   "name": "python3"
  },
  "language_info": {
   "codemirror_mode": {
    "name": "ipython",
    "version": 3
   },
   "file_extension": ".py",
   "mimetype": "text/x-python",
   "name": "python",
   "nbconvert_exporter": "python",
   "pygments_lexer": "ipython3",
   "version": "3.7.8"
  }
 },
 "nbformat": 4,
 "nbformat_minor": 4
}
