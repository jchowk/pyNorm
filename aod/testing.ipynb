{
 "cells": [
  {
   "cell_type": "markdown",
   "metadata": {},
   "source": [
    "# Test \n",
    "\n",
    "Introduction here"
   ]
  },
  {
   "cell_type": "code",
   "execution_count": 1,
   "metadata": {},
   "outputs": [],
   "source": [
    "# Typical imports here\n",
    "import numpy as np\n",
    "import matplotlib.pyplot as plt\n",
    "import astropy.units as u\n",
    "import astropy.constants as c"
   ]
  },
  {
   "cell_type": "code",
   "execution_count": 2,
   "metadata": {},
   "outputs": [],
   "source": [
    "import pyND.absorption as abs"
   ]
  },
  {
   "cell_type": "code",
   "execution_count": 3,
   "metadata": {},
   "outputs": [],
   "source": [
    "%load_ext autoreload\n",
    "%autoreload 2"
   ]
  },
  {
   "cell_type": "markdown",
   "metadata": {},
   "source": [
    "## Test data"
   ]
  },
  {
   "cell_type": "code",
   "execution_count": 4,
   "metadata": {},
   "outputs": [],
   "source": [
    "from scipy.io import readsav\n",
    "\n",
    "input_filename = 'CIV1548.2i_o.save'\n",
    "# input_filename = 'rbs2005_SiII1260_o.save'\n",
    "spec = readsav(input_filename)"
   ]
  },
  {
   "cell_type": "code",
   "execution_count": 5,
   "metadata": {},
   "outputs": [
    {
     "name": "stdout",
     "output_type": "stream",
     "text": [
      "v\n",
      "f\n",
      "ef\n",
      "ion\n",
      "wni\n",
      "wavc\n",
      "fval\n",
      "gam\n",
      "redshift\n",
      "object\n",
      "vlsr\n",
      "name\n",
      "ra\n",
      "dec\n",
      "gl\n",
      "gb\n",
      "z\n",
      "ycon\n",
      "ycon_sig\n",
      "vnorm\n",
      "fnorm\n",
      "efnorm\n",
      "efnorm1\n",
      "efnorm2\n",
      "sigma0\n",
      "targname\n",
      "sn\n",
      "maxord\n",
      "v1\n",
      "v2\n",
      "vaod1\n",
      "vaod2\n",
      "ncol\n",
      "ncole1\n",
      "ncole2\n",
      "ncolez\n",
      "w\n",
      "w_es\n",
      "w_ec\n",
      "w_et\n",
      "w_ez\n",
      "va\n",
      "vaerr\n",
      "ba\n",
      "baerr\n",
      "m3\n",
      "m3err\n",
      "col3sig\n",
      "col2sig\n",
      "dv90\n",
      "v90a\n",
      "v90b\n",
      "mask_cont\n",
      "vel\n",
      "flux\n",
      "eflux\n"
     ]
    }
   ],
   "source": [
    "for kk in spec.keys(): print(kk)"
   ]
  },
  {
   "cell_type": "code",
   "execution_count": 6,
   "metadata": {},
   "outputs": [],
   "source": [
    "# FIX NON-WRITEABLE ARRAYS due to discontiguous memory\n",
    "for kkk in spec.keys():\n",
    "    if isinstance(spec[kkk],(np.ndarray)):\n",
    "        spec[kkk] = spec[kkk].copy()"
   ]
  },
  {
   "cell_type": "code",
   "execution_count": 7,
   "metadata": {},
   "outputs": [],
   "source": [
    "velocity = spec['vel'].copy()\n",
    "flux = spec['flux'].copy()\n",
    "flux_err = spec['eflux'].copy()\n",
    "continuum = spec['ycon'].copy()\n",
    "continuum_err = spec['ycon_sig'].copy()\n",
    "wavc=spec['wavc'].copy()\n",
    "fval=spec['fval'].copy()"
   ]
  },
  {
   "cell_type": "code",
   "execution_count": 8,
   "metadata": {},
   "outputs": [
    {
     "data": {
      "text/plain": [
       "(-500.0, 100.0)"
      ]
     },
     "execution_count": 8,
     "metadata": {},
     "output_type": "execute_result"
    },
    {
     "data": {
      "image/png": "[encoded data removed]",
      "text/plain": [
       "<Figure size 432x288 with 1 Axes>"
      ]
     },
     "metadata": {
      "image/png": {
       "height": 248,
       "width": 379
      },
      "needs_background": "light"
     },
     "output_type": "display_data"
    }
   ],
   "source": [
    "plt.plot(velocity,flux/continuum,drawstyle='steps-mid')\n",
    "plt.plot(velocity,flux_err/continuum,drawstyle='steps-mid')\n",
    "abs.plotaxes()\n",
    "plt.xlim(-500,100)"
   ]
  },
  {
   "cell_type": "markdown",
   "metadata": {},
   "source": [
    "### Test the new code"
   ]
  },
  {
   "cell_type": "code",
   "execution_count": 9,
   "metadata": {},
   "outputs": [],
   "source": [
    "# %run pyn_column\n",
    "# calc_column(velocity,flux,flux_err,\n",
    "#     continuum,continuum_err,wavc,fval)"
   ]
  },
  {
   "cell_type": "code",
   "execution_count": 10,
   "metadata": {},
   "outputs": [],
   "source": [
    "def fix_unwriteable_spec(spec):\n",
    "    # FIX NON-WRITEABLE ARRAYS due to discontiguous memory\n",
    "    for kkk in spec.keys():\n",
    "        if isinstance(spec[kkk],(np.ndarray)):\n",
    "            spec[kkk] = spec[kkk].copy()\n",
    "\n",
    "    return spec\n",
    "\n",
    "def xlimit(x, limits):\n",
    "\n",
    "   def _ret():  return idx1, idx2\n",
    "\n",
    "   # x1 = where(ravel(x >= xpos1))[0]  ;  x1 = x1[0]\n",
    "   # x2 = where(ravel(x > xpos2))[0]  ;  x2 = x2[0] - 1\n",
    "\n",
    "   idx1 = (np.abs(x - limits[0])).argmin()\n",
    "   idx2 = (np.abs(x - limits[1])).argmin()\n",
    "\n",
    "   return _ret()"
   ]
  },
  {
   "cell_type": "code",
   "execution_count": 11,
   "metadata": {},
   "outputs": [],
   "source": [
    "integration_limits=[spec['v1'],spec['v2']]\n",
    "integration_limits=[-300,-150]"
   ]
  },
  {
   "cell_type": "code",
   "execution_count": 12,
   "metadata": {},
   "outputs": [],
   "source": [
    "    # Some constants and flags\n",
    "    column_factor = 2.654e-15\n",
    "    flag_sat = False\n",
    "\n",
    "    velocity = spec['vel'].copy()\n",
    "    flux = spec['flux'].copy()\n",
    "    flux_err = spec['eflux'].copy()\n",
    "    continuum = spec['ycon'].copy()\n",
    "    continuum_err = spec['ycon_sig'].copy()\n",
    "    wavc=spec['wavc'].copy()\n",
    "    fval=spec['fval'].copy()\n",
    "\n",
    "    # Define the limits of the integration:\n",
    "    if not integration_limits:\n",
    "        int_idx = np.full(np.size(velocity),False)\n",
    "        xlim1, xlim2 = \\\n",
    "            xlimit(velocity,[spec['v1'],spec['v2']])\n",
    "        int_idx[xlim1:xlim2] = True\n",
    "    else:\n",
    "        int_idx = np.full(np.size(velocity),False)\n",
    "        xlim1, xlim2 = \\\n",
    "            xlimit(velocity,integration_limits)\n",
    "        int_idx[xlim1:xlim2] = True\n",
    "\n",
    "    #Define the velocity spacing\n",
    "    delv = np.median(velocity[1:]-velocity[:-1])\n",
    "\n",
    "    # Test for clearly saturated pixels:\n",
    "    idx_saturation = (flux <= 0.)\n",
    "    if idx_saturation.sum() > 0: flag_sat = True\n",
    "\n",
    "    # Fix saturation if it's present.\n",
    "    flux[idx_saturation] = np.abs(flux[idx_saturation])\n",
    "    flux[(flux==0)] = 2.*flux_err[(flux==0)]\n",
    "\n",
    "    # Create an optical depth array and its error\n",
    "    tau_array = np.log(continuum / flux)\n",
    "    tau_array_err = np.sqrt((flux_err/flux)**2)\n",
    "\n",
    "    tau_int = np.sum(tau_array[int_idx]*delv)\n",
    "    tau_int_err = \\\n",
    "     np.sqrt(np.sum((tau_array_err[int_idx]*delv)**2))\n",
    "\n",
    "    # Create an apparent column density array\n",
    "    nav_array = tau_array/(wavc*fval*column_factor)\n",
    "    nav_err = tau_array_err/(wavc*fval*column_factor)\n",
    "\n",
    "    # Integrate the apparent column density profiles\n",
    "    column = tau_int/(wavc*fval*column_factor)\n",
    "\n",
    "    # Error in the column\n",
    "    column_err = tau_int_err/(wavc*fval*column_factor)\n",
    "\n",
    "    # Continuum error\n",
    "    column_err_cont = \\\n",
    "        np.sum(((continuum_err[int_idx]/continuum[int_idx])*delv)) /\\\n",
    "         (wavc*fval*column_factor)\n",
    "\n",
    "    # Background uncertainty\n",
    "    z_eps = 0.01  # Fractional bg error\n",
    "    yc1 = continuum[int_idx]*(1.-z_eps)\n",
    "    y1  = flux[int_idx]-continuum[int_idx]*z_eps\n",
    "    tau1 = np.sum(np.log(yc1/y1)*delv)\n",
    "    col1 = tau1 / (wavc*fval*column_factor)\n",
    "    column_err_zero = np.abs(col1-column)\n",
    "\n",
    "    # Combine errors\n",
    "    column_err_total = np.sqrt(column_err**2 \\\n",
    "        +column_err_cont**2)\n",
    "\n"
   ]
  },
  {
   "cell_type": "code",
   "execution_count": 13,
   "metadata": {},
   "outputs": [
    {
     "data": {
      "text/plain": [
       "(13.09315733229834, 0.15186661302157617)"
      ]
     },
     "execution_count": 13,
     "metadata": {},
     "output_type": "execute_result"
    }
   ],
   "source": [
    "np.log10(column),column_err/column*np.log10(np.e)"
   ]
  },
  {
   "cell_type": "markdown",
   "metadata": {},
   "source": [
    "#### $\\tau_a(v)$ profile"
   ]
  },
  {
   "cell_type": "code",
   "execution_count": 14,
   "metadata": {},
   "outputs": [
    {
     "data": {
      "text/plain": [
       "(-1.0, 5.0)"
      ]
     },
     "execution_count": 14,
     "metadata": {},
     "output_type": "execute_result"
    },
    {
     "data": {
      "image/png": "[encoded data removed]",
      "text/plain": [
       "<Figure size 432x288 with 1 Axes>"
      ]
     },
     "metadata": {
      "image/png": {
       "height": 250,
       "width": 391
      },
      "needs_background": "light"
     },
     "output_type": "display_data"
    }
   ],
   "source": [
    "plt.plot(velocity,tau_array,drawstyle='steps-mid')\n",
    "plt.plot(velocity,tau_array_err,drawstyle='steps-mid')\n",
    "plt.plot(velocity[int_idx],tau_array[int_idx],color='red',drawstyle='steps-mid')\n",
    "abs.plotzero()\n",
    "plt.ylabel('$\\\\tau_a(v)$')\n",
    "plt.xlim(-400,100)\n",
    "plt.ylim(-1,5)"
   ]
  },
  {
   "cell_type": "markdown",
   "metadata": {},
   "source": [
    "#### $N_a(v)$ profile"
   ]
  },
  {
   "cell_type": "code",
   "execution_count": 15,
   "metadata": {},
   "outputs": [
    {
     "data": {
      "text/plain": [
       "(-100000000000.0, 1000000000000.0)"
      ]
     },
     "execution_count": 15,
     "metadata": {},
     "output_type": "execute_result"
    },
    {
     "data": {
      "image/png": "[encoded data removed]",
      "text/plain": [
       "<Figure size 432x288 with 1 Axes>"
      ]
     },
     "metadata": {
      "image/png": {
       "height": 257,
       "width": 394
      },
      "needs_background": "light"
     },
     "output_type": "display_data"
    }
   ],
   "source": [
    "plt.plot(velocity,nav_array,drawstyle='steps-mid')\n",
    "plt.plot(velocity,nav_err,drawstyle='steps-mid')\n",
    "plt.plot(velocity[int_idx],nav_array[int_idx],color='red',drawstyle='steps-mid')\n",
    "abs.plotzero()\n",
    "plt.ylabel('$N_a(v)$')\n",
    "plt.xlim(-500,100)\n",
    "plt.ylim(-0.1e12,1e12)"
   ]
  },
  {
   "cell_type": "code",
   "execution_count": 16,
   "metadata": {},
   "outputs": [
    {
     "name": "stdout",
     "output_type": "stream",
     "text": [
      "The autoreload extension is already loaded. To reload it, use:\n",
      "  %reload_ext autoreload\n"
     ]
    }
   ],
   "source": [
    "%load_ext autoreload\n",
    "%autoreload 2"
   ]
  },
  {
   "cell_type": "markdown",
   "metadata": {},
   "source": [
    "```\n",
    "\n",
    "```\n",
    "# Testing `pyNorm.aod.pyn_column`"
   ]
  },
  {
   "cell_type": "code",
   "execution_count": 17,
   "metadata": {},
   "outputs": [],
   "source": [
    "from scipy.io import readsav\n",
    "\n",
    "input_filename = 'CIV1548.2i_o.save'\n",
    "# input_filename = 'rbs2005_SiII1260_o.save'\n",
    "spec = readsav(input_filename)"
   ]
  },
  {
   "cell_type": "code",
   "execution_count": 18,
   "metadata": {},
   "outputs": [],
   "source": [
    "integration_limits=[spec['v1'],spec['v2']]\n",
    "integration_limits=[-300,-150]"
   ]
  },
  {
   "cell_type": "code",
   "execution_count": 19,
   "metadata": {},
   "outputs": [],
   "source": [
    "from pyNorm.aod import pyn_column"
   ]
  },
  {
   "cell_type": "markdown",
   "metadata": {},
   "source": [
    "#### Calculate the column density using the velocity limits in the save file"
   ]
  },
  {
   "cell_type": "code",
   "execution_count": 20,
   "metadata": {},
   "outputs": [
    {
     "data": {
      "text/plain": [
       "(12.71548152402164, 0.26729178703803785)"
      ]
     },
     "execution_count": 20,
     "metadata": {},
     "output_type": "execute_result"
    }
   ],
   "source": [
    "spec_out = pyn_column(spec)\n",
    "spec_out['ncol'], spec_out['necol1']"
   ]
  },
  {
   "cell_type": "markdown",
   "metadata": {},
   "source": [
    "#### Calculate the column density using the velocity limits from above"
   ]
  },
  {
   "cell_type": "code",
   "execution_count": 21,
   "metadata": {},
   "outputs": [
    {
     "data": {
      "text/plain": [
       "(13.093897958798385, 0.15486311615601664)"
      ]
     },
     "execution_count": 21,
     "metadata": {},
     "output_type": "execute_result"
    }
   ],
   "source": [
    "spec_out = pyn_column(spec,integration_limits)\n",
    "spec_out['ncol'], spec_out['necol1']"
   ]
  },
  {
   "cell_type": "markdown",
   "metadata": {},
   "source": [
    "#### Calculate the column density using arbitrary limits"
   ]
  },
  {
   "cell_type": "code",
   "execution_count": 22,
   "metadata": {},
   "outputs": [
    {
     "data": {
      "text/plain": [
       "(13.229653986262422, 0.07196024006842763)"
      ]
     },
     "execution_count": 22,
     "metadata": {},
     "output_type": "execute_result"
    }
   ],
   "source": [
    "spec_out = pyn_column(spec,integration_limits = [-100,-50])\n",
    "spec_out['ncol'], spec_out['necol1']"
   ]
  },
  {
   "cell_type": "markdown",
   "metadata": {},
   "source": [
    "# Test EW code"
   ]
  },
  {
   "cell_type": "code",
   "execution_count": 23,
   "metadata": {},
   "outputs": [],
   "source": [
    "integration_limits = [-295,-215]\n",
    "# FIX NON-WRITEABLE ARRAYS due to discontiguous\n",
    "# memory in some readsav inputs\n",
    "if ~spec['vel'].flags.writeable:\n",
    "    spec = fix_unwriteable_spec(spec)\n",
    "\n",
    "# Some constants and flags\n",
    "column_factor = 2.654e-15\n",
    "lightspeed = 2.998e5 # km/s\n",
    "flag_sat = False\n",
    "\n",
    "velocity = spec['vel'].copy()\n",
    "flux = spec['flux'].copy()\n",
    "flux_err = spec['eflux'].copy()\n",
    "wavc=spec['wavc'].copy()\n",
    "fval=spec['fval'].copy()\n",
    "\n",
    "# Deal with the continuum:\n",
    "try:\n",
    "    continuum=spec['ycon'].copy()\n",
    "    continuum_err = spec['ycon_sig'].copy()\n",
    "except:\n",
    "    continuum=spec['cont']\n",
    "    continuum_err = spec['econt'].copy()\n",
    "\n",
    "\n",
    "# Define the limits of the integration:\n",
    "if not integration_limits:\n",
    "    integration_limits = [spec['v1'],spec['v2']]\n",
    "    int_idx = np.full(np.size(velocity),False)\n",
    "    xlim1, xlim2 = \\\n",
    "        xlimit(velocity,[spec['v1'],spec['v2']])\n",
    "    int_idx[xlim1:xlim2] = True\n",
    "else:\n",
    "    int_idx = np.full(np.size(velocity),False)\n",
    "    xlim1, xlim2 = \\\n",
    "        xlimit(velocity,integration_limits)\n",
    "    int_idx[xlim1:xlim2] = True\n",
    "\n",
    "#Define the velocity spacing\n",
    "delv = np.median(velocity[1:]-velocity[:-1])\n",
    "\n",
    "# Create the wavelength array\n",
    "try:\n",
    "    wave=spec['wave'].copy()\n",
    "except:\n",
    "    wave = spec['wavc']*(velocity/lightspeed)+wavc\n",
    "    spec['wave'] = wave\n",
    "\n",
    "# Wavelength spacing\n",
    "delw = np.median(wave[1:]-wave[:-1])\n",
    "\n",
    "# Calculate the equivalent width\n",
    "eqw_int = np.sum((1.-flux[int_idx]/continuum[int_idx])*delw)\n",
    "\n",
    "# Random flux errors\n",
    "eqw_stat_err = \\\n",
    "    np.sqrt(np.sum((flux_err[int_idx]/continuum[int_idx]*delw)**2))\n",
    "# Continuum errors\n",
    "eqw_cont_err = \\\n",
    "    np.sum(continuum_err[int_idx]*(flux[int_idx]/continuum[int_idx]**2)*delw)\n",
    "# Zero point error\n",
    "# TODO: Check this calculation\n",
    "z_eps = 0.01\n",
    "eqw_zero_err = z_eps*eqw_int\n",
    "\n",
    "# Combine errors\n",
    "eqw_err = np.sqrt(eqw_stat_err**2 \\\n",
    "    +eqw_cont_err**2 + eqw_zero_err**2)\n",
    "\n",
    "spec['v1'] = integration_limits[0]\n",
    "spec['v2'] = integration_limits[1]\n",
    "\n",
    "# Store the EW in milliAngstrom\n",
    "spec['EW'] = eqw_int*1000.\n",
    "spec['EW_err'] = eqw_err*1000.\n",
    "spec['EW_stat_err'] = eqw_stat_err*1000.\n",
    "spec['EW_cont_err'] = eqw_cont_err*1000.\n",
    "spec['EW_zero_err'] = eqw_zero_err*1000.\n",
    "\n",
    "spec['EW_cumulative'] = \\\n",
    "  np.cumsum((1.-flux[int_idx]/continuum[int_idx])*delw)*1000.\n",
    "\n",
    "#     try:\n",
    "#         del spec['w']\n",
    "#         del spec['w_es']\n",
    "#         del spec['w_ec']\n",
    "#         del spec['w_et']\n",
    "#         del spec['w_ez']\n",
    "#     except:\n",
    "#         pass"
   ]
  },
  {
   "cell_type": "code",
   "execution_count": 24,
   "metadata": {},
   "outputs": [
    {
     "data": {
      "text/plain": [
       "(17.42219366133213, 12.190187396508447)"
      ]
     },
     "execution_count": 24,
     "metadata": {},
     "output_type": "execute_result"
    }
   ],
   "source": [
    "eqw_int*1000.,eqw_err*1000."
   ]
  },
  {
   "cell_type": "markdown",
   "metadata": {},
   "source": [
    "### EW cumulative integration"
   ]
  },
  {
   "cell_type": "code",
   "execution_count": 25,
   "metadata": {},
   "outputs": [
    {
     "data": {
      "text/plain": [
       "Text(0, 0.5, 'Cumulative EW (milliAngstrom)')"
      ]
     },
     "execution_count": 25,
     "metadata": {},
     "output_type": "execute_result"
    },
    {
     "data": {
      "image/png": "[encoded data removed]",
      "text/plain": [
       "<Figure size 432x288 with 1 Axes>"
      ]
     },
     "metadata": {
      "image/png": {
       "height": 259,
       "width": 389
      },
      "needs_background": "light"
     },
     "output_type": "display_data"
    }
   ],
   "source": [
    "eqw_cum = spec['EW_cumulative']\n",
    "plt.plot(velocity[int_idx],eqw_cum)\n",
    "plt.xlabel('Velocity (km/s)')\n",
    "plt.ylabel('Cumulative EW (milliAngstrom)')"
   ]
  },
  {
   "cell_type": "code",
   "execution_count": 26,
   "metadata": {},
   "outputs": [
    {
     "data": {
      "text/plain": [
       "<matplotlib.lines.Line2D at 0x11b28e650>"
      ]
     },
     "execution_count": 26,
     "metadata": {},
     "output_type": "execute_result"
    },
    {
     "data": {
      "image/png": "[encoded data removed]",
      "text/plain": [
       "<Figure size 432x288 with 1 Axes>"
      ]
     },
     "metadata": {
      "image/png": {
       "height": 259,
       "width": 382
      },
      "needs_background": "light"
     },
     "output_type": "display_data"
    }
   ],
   "source": [
    "plt.plot(velocity[int_idx],eqw_cum/eqw_cum[-1])\n",
    "plt.xlabel('Velocity (km/s)')\n",
    "plt.ylabel('Normalized cumulative EW')\n",
    "plt.axhline(0.05,linestyle=':',color='k')\n",
    "plt.axhline(0.95,linestyle=':',color='k')"
   ]
  },
  {
   "cell_type": "code",
   "execution_count": null,
   "metadata": {},
   "outputs": [],
   "source": []
  },
  {
   "cell_type": "markdown",
   "metadata": {},
   "source": [
    "```\n",
    "\n",
    "```\n",
    "# Testing `pyNorm.aod.pyn_eqwidth`"
   ]
  },
  {
   "cell_type": "code",
   "execution_count": 27,
   "metadata": {},
   "outputs": [],
   "source": [
    "from scipy.io import readsav\n",
    "\n",
    "input_filename = 'CIV1548.2i_o.save'\n",
    "# input_filename = 'rbs2005_SiII1260_o.save'\n",
    "spec = readsav(input_filename)"
   ]
  },
  {
   "cell_type": "code",
   "execution_count": 28,
   "metadata": {},
   "outputs": [],
   "source": [
    "integration_limits=[spec['v1'],spec['v2']]\n",
    "integration_limits=[-295,-215]"
   ]
  },
  {
   "cell_type": "code",
   "execution_count": 29,
   "metadata": {},
   "outputs": [],
   "source": [
    "from pyNorm.aod import pyn_eqwidth\n",
    "from pyNorm.aod import pyn_column"
   ]
  },
  {
   "cell_type": "markdown",
   "metadata": {},
   "source": [
    "#### Calculate the column density using the velocity limits in the save file"
   ]
  },
  {
   "cell_type": "code",
   "execution_count": 30,
   "metadata": {},
   "outputs": [
    {
     "data": {
      "text/plain": [
       "(17.42052467650511, 12.223810162578102)"
      ]
     },
     "execution_count": 30,
     "metadata": {},
     "output_type": "execute_result"
    }
   ],
   "source": [
    "spec_out = pyn_column(spec)\n",
    "spec_out = pyn_eqwidth(spec_out)\n",
    "spec_out['EW'], spec_out['EW_err']"
   ]
  },
  {
   "cell_type": "markdown",
   "metadata": {},
   "source": [
    "#### Calculate the column density using the velocity limits from above"
   ]
  },
  {
   "cell_type": "code",
   "execution_count": 31,
   "metadata": {},
   "outputs": [
    {
     "data": {
      "text/plain": [
       "(17.42052467650511, 12.223810162578102)"
      ]
     },
     "execution_count": 31,
     "metadata": {},
     "output_type": "execute_result"
    }
   ],
   "source": [
    "spec_out = pyn_column(spec, integration_limits)\n",
    "spec_out = pyn_eqwidth(spec_out, integration_limits)\n",
    "spec_out['EW'], spec_out['EW_err']"
   ]
  },
  {
   "cell_type": "markdown",
   "metadata": {},
   "source": [
    "#### Calculate the column density using arbitrary limits"
   ]
  },
  {
   "cell_type": "code",
   "execution_count": 32,
   "metadata": {},
   "outputs": [
    {
     "data": {
      "text/plain": [
       "(225.45429693894837, 14.900590492499548)"
      ]
     },
     "execution_count": 32,
     "metadata": {},
     "output_type": "execute_result"
    }
   ],
   "source": [
    "spec_out = pyn_eqwidth(spec,integration_limits = [-100,50])\n",
    "spec_out['EW'], spec_out['EW_err']"
   ]
  },
  {
   "cell_type": "markdown",
   "metadata": {},
   "source": [
    "# Testing statistics code"
   ]
  },
  {
   "cell_type": "code",
   "execution_count": 33,
   "metadata": {},
   "outputs": [],
   "source": [
    "from scipy.io import readsav\n",
    "\n",
    "input_filename = 'CIV1548.2i_o.save'\n",
    "# input_filename = 'rbs2005_SiII1260_o.save'\n",
    "spec = readsav(input_filename)"
   ]
  },
  {
   "cell_type": "code",
   "execution_count": 34,
   "metadata": {},
   "outputs": [],
   "source": [
    "    # FIX NON-WRITEABLE ARRAYS due to discontiguous\n",
    "    # memory in some readsav inputs\n",
    "    if ~spec['vel'].flags.writeable:\n",
    "        spec = fix_unwriteable_spec(spec)\n",
    "\n",
    "    # Some constants and flags\n",
    "    column_factor = 2.654e-15\n",
    "    ew_factor = 1.13e17\n",
    "    lightspeed = 2.998e5 # km/s\n",
    "    flag_sat = False\n",
    "\n",
    "    velocity = spec['vel'].copy()\n",
    "    flux = spec['flux'].copy()\n",
    "    flux_err = spec['eflux'].copy()\n",
    "    wavc=spec['wavc'].copy()\n",
    "    fval=spec['fval'].copy()\n",
    "\n",
    "    # Deal with the continuum:\n",
    "    try:\n",
    "        continuum=spec['ycon'].copy()\n",
    "        continuum_err = spec['ycon_sig'].copy()\n",
    "    except:\n",
    "        continuum=spec['cont']\n",
    "        continuum_err = spec['econt'].copy()\n",
    "\n",
    "    # Define the limits of the integration:\n",
    "    if not integration_limits:\n",
    "        integration_limits = [spec['v1'],spec['v2']]\n",
    "        idx = np.full(np.size(velocity),False)\n",
    "        xlim1, xlim2 = \\\n",
    "            xlimit(velocity,[spec['v1'],spec['v2']])\n",
    "        idx[xlim1:xlim2] = True\n",
    "    else:\n",
    "        idx = np.full(np.size(velocity),False)\n",
    "        xlim1, xlim2 = \\\n",
    "            xlimit(velocity,integration_limits)\n",
    "        idx[xlim1:xlim2] = True\n",
    "\n",
    "    # An array of delta v:\n",
    "    delv = velocity[1:]-velocity[:-1]\n",
    "    delv = np.concatenate((delv,[delv[-1]]))\n",
    "\n",
    "    # TODO: Saturation?\n",
    "    # Calculate the zeroth moment\n",
    "    tau = np.log(np.abs(continuum/flux))\n",
    "    tau_tot = np.sum(tau[idx]*delv[idx])\n",
    "\n",
    "    # Calculate the first moment (average velocity)\n",
    "    a = np.sum(tau[idx]*velocity[idx]*delv[idx])\n",
    "    m1 = a/tau_tot\n",
    "\n",
    "    # Calculate the second moment (width)\n",
    "    b = np.sum(tau[idx]*(velocity[idx] - m1)**2*delv[idx])\n",
    "    m2 = np.sqrt(b/tau_tot)\n",
    "\n",
    "    # Calculate the third moment (skewness)\n",
    "    c = np.sum(tau[idx]*((velocity[idx] - m1)/m2)**3*delv[idx])\n",
    "    m3 = c/tau_tot\n",
    "\n",
    "    # Calculate the extent (same as m2, except that m1 is assumed to be 0)\n",
    "    b4 = np.sum(tau[idx]*(velocity[idx] - 0)**2*delv[idx])\n",
    "    m4 = np.sqrt(b4/tau_tot)\n",
    "\n",
    "    # Velocities at 5% and 95% of total optical depth as dv90\n",
    "    tau_cum = np.cumsum(tau[idx]*delv[idx])\n",
    "    v90a = (tau_cum/tau_tot-0.05).argmin()"
   ]
  },
  {
   "cell_type": "code",
   "execution_count": 35,
   "metadata": {},
   "outputs": [
    {
     "data": {
      "text/plain": [
       "0"
      ]
     },
     "execution_count": 35,
     "metadata": {},
     "output_type": "execute_result"
    }
   ],
   "source": [
    "v90a"
   ]
  },
  {
   "cell_type": "code",
   "execution_count": null,
   "metadata": {},
   "outputs": [],
   "source": []
  },
  {
   "cell_type": "markdown",
   "metadata": {},
   "source": [
    "```\n",
    "\n",
    "```\n",
    "# Testing `pyn_istat`"
   ]
  },
  {
   "cell_type": "code",
   "execution_count": 36,
   "metadata": {},
   "outputs": [],
   "source": [
    "from scipy.io import readsav\n",
    "\n",
    "input_filename = 'CIV1548.2i_o.save'\n",
    "# input_filename = 'rbs2005_SiII1260_o.save'\n",
    "spec = readsav(input_filename)"
   ]
  },
  {
   "cell_type": "code",
   "execution_count": 37,
   "metadata": {},
   "outputs": [],
   "source": [
    "integration_limits=[spec['v1'],spec['v2']]\n",
    "integration_limits=[-295,-215]"
   ]
  },
  {
   "cell_type": "code",
   "execution_count": 38,
   "metadata": {},
   "outputs": [],
   "source": [
    "from pyNorm.aod import pyn_eqwidth\n",
    "from pyNorm.aod import pyn_column\n",
    "from pyNorm.aod import pyn_istat"
   ]
  },
  {
   "cell_type": "markdown",
   "metadata": {},
   "source": [
    "#### Calculate the column density using the velocity limits in the save file"
   ]
  },
  {
   "cell_type": "code",
   "execution_count": 39,
   "metadata": {},
   "outputs": [
    {
     "name": "stdout",
     "output_type": "stream",
     "text": [
      "-270.95096463798683 16.880205667897602\n",
      "56.87149388349741 -295.04040504322205 -238.16891115972464\n"
     ]
    }
   ],
   "source": [
    "spec_out = pyn_column(spec)\n",
    "spec_out = pyn_eqwidth(spec_out)\n",
    "spec_out = pyn_istat(spec_out)\n",
    "print(spec_out['va'], spec_out['va_err'])\n",
    "print(spec_out['dv90'], spec_out['v90a'],spec_out['v90b'])\n"
   ]
  },
  {
   "cell_type": "code",
   "execution_count": null,
   "metadata": {},
   "outputs": [],
   "source": []
  },
  {
   "cell_type": "markdown",
   "metadata": {},
   "source": [
    "```\n",
    "\n",
    "```\n",
    "# Testing `pyn_batch`"
   ]
  },
  {
   "cell_type": "code",
   "execution_count": 40,
   "metadata": {},
   "outputs": [],
   "source": [
    "from scipy.io import readsav\n",
    "\n",
    "input_filename = 'CIV1548.2i_o.save'\n",
    "# input_filename = 'rbs2005_SiII1260_o.save'\n",
    "spec = readsav(input_filename)"
   ]
  },
  {
   "cell_type": "code",
   "execution_count": 43,
   "metadata": {},
   "outputs": [],
   "source": [
    "integration_limits=[spec['v1'],spec['v2']]\n",
    "integration_limits=[-200,100]"
   ]
  },
  {
   "cell_type": "code",
   "execution_count": 45,
   "metadata": {},
   "outputs": [],
   "source": [
    "from pyNorm.aod import pyn_eqwidth\n",
    "from pyNorm.aod import pyn_column\n",
    "from pyNorm.aod import pyn_istat\n",
    "from pyNorm.aod import pyn_batch"
   ]
  },
  {
   "cell_type": "markdown",
   "metadata": {},
   "source": [
    "#### Calculate the column density using the velocity limits in the save file"
   ]
  },
  {
   "cell_type": "code",
   "execution_count": 46,
   "metadata": {},
   "outputs": [
    {
     "name": "stdout",
     "output_type": "stream",
     "text": [
      "pyn_batch: Wavelength = 1548.204\n",
      "pyn_batch: f-value = 0.190\n",
      "\n",
      "--------------------------------------------\n",
      "log N = 13.921 (-0.037, +0.037)\n",
      "--------------------------------------------\n",
      "\n",
      "--------------------------------------------\n",
      "<v>       = -43.15  +/- 6.68\n",
      "<b>       =  48.98  +/- 6.62\n",
      "dv90      = 165.91  +/- 9.45\n",
      "Skew      =  -0.53  +/- 0.87\n",
      "--------------------------------------------\n",
      "\n",
      "--------------------------------------------\n",
      "EW           = 265.77\n",
      "Stat Error   = 21.91\n",
      "Cont Error   = 5.85\n",
      "Tot Error    = 22.84\n",
      "3sigma EW    < 68.51\n",
      "\n",
      "\n",
      "Linear COG N = 13.82\n",
      "3sigma N     < 13.23\n",
      "2sigma N     < 13.05\n",
      "--------------------------------------------\n"
     ]
    }
   ],
   "source": [
    "spec_out = pyn_batch(spec,integration_limits)"
   ]
  },
  {
   "cell_type": "markdown",
   "metadata": {},
   "source": [
    "# Legendre continuum"
   ]
  },
  {
   "cell_type": "code",
   "execution_count": 60,
   "metadata": {},
   "outputs": [
    {
     "ename": "IndexError",
     "evalue": "index 4 is out of bounds for axis 0 with size 4",
     "output_type": "error",
     "traceback": [
      "\u001b[0;31m---------------------------------------------------------------------------\u001b[0m",
      "\u001b[0;31mIndexError\u001b[0m                                Traceback (most recent call last)",
      "\u001b[0;32m<ipython-input-60-11879e2e4ab8>\u001b[0m in \u001b[0;36m<module>\u001b[0;34m\u001b[0m\n\u001b[1;32m     13\u001b[0m \u001b[0;31m#Form legendre polynomial.\u001b[0m\u001b[0;34m\u001b[0m\u001b[0;34m\u001b[0m\u001b[0;34m\u001b[0m\u001b[0m\n\u001b[1;32m     14\u001b[0m \u001b[0mp\u001b[0m \u001b[0;34m=\u001b[0m \u001b[0mnp\u001b[0m\u001b[0;34m.\u001b[0m\u001b[0mzeros\u001b[0m\u001b[0;34m(\u001b[0m\u001b[0;34m[\u001b[0m\u001b[0mmaxord\u001b[0m \u001b[0;34m+\u001b[0m \u001b[0;36m1\u001b[0m\u001b[0;34m,\u001b[0m \u001b[0mnx\u001b[0m\u001b[0;34m]\u001b[0m\u001b[0;34m)\u001b[0m\u001b[0;34m\u001b[0m\u001b[0;34m\u001b[0m\u001b[0m\n\u001b[0;32m---> 15\u001b[0;31m \u001b[0mp\u001b[0m\u001b[0;34m[\u001b[0m\u001b[0mix\u001b[0m\u001b[0;34m]\u001b[0m \u001b[0;34m=\u001b[0m \u001b[0;36m1.\u001b[0m\u001b[0;34m\u001b[0m\u001b[0;34m\u001b[0m\u001b[0m\n\u001b[0m\u001b[1;32m     16\u001b[0m \u001b[0mp\u001b[0m\u001b[0;34m[\u001b[0m\u001b[0mix\u001b[0m \u001b[0;34m+\u001b[0m \u001b[0mnx\u001b[0m\u001b[0;34m]\u001b[0m \u001b[0;34m=\u001b[0m \u001b[0mx\u001b[0m\u001b[0;34m\u001b[0m\u001b[0;34m\u001b[0m\u001b[0m\n\u001b[1;32m     17\u001b[0m \u001b[0;32mfor\u001b[0m \u001b[0mj\u001b[0m \u001b[0;32min\u001b[0m \u001b[0mnp\u001b[0m\u001b[0;34m.\u001b[0m\u001b[0marange\u001b[0m\u001b[0;34m(\u001b[0m\u001b[0;36m2.\u001b[0m\u001b[0;34m,\u001b[0m \u001b[0;34m(\u001b[0m\u001b[0mmaxord\u001b[0m\u001b[0;34m)\u001b[0m\u001b[0;34m+\u001b[0m\u001b[0;34m(\u001b[0m\u001b[0;36m1\u001b[0m\u001b[0;34m)\u001b[0m\u001b[0;34m)\u001b[0m\u001b[0;34m:\u001b[0m\u001b[0;34m\u001b[0m\u001b[0;34m\u001b[0m\u001b[0m\n",
      "\u001b[0;31mIndexError\u001b[0m: index 4 is out of bounds for axis 0 with size 4"
     ]
    }
   ],
   "source": [
    "    x = spec['vel'].copy()\n",
    "    y = spec['flux'].copy()\n",
    "\n",
    "\n",
    "    nflag = 0\n",
    "    nord = maxord\n",
    "    #\n",
    "    #Array subscript length and vector.\n",
    "    #\n",
    "    nx = x.size\n",
    "    ix = np.arange(nx)\n",
    "\n",
    "    #Form legendre polynomial.\n",
    "    p = np.zeros([maxord + 1, nx])\n",
    "    p[ix] = 1.\n",
    "    p[ix + nx] = x\n",
    "    for j in np.arange(2., (maxord)+(1)):\n",
    "        p[ix + j * nx] = ((2. * j - 1.) * x * p[j - 1,:] - (j - 1) * p[j - 2,:]) / j\n"
   ]
  },
  {
   "cell_type": "code",
   "execution_count": null,
   "metadata": {},
   "outputs": [],
   "source": []
  }
 ],
 "metadata": {
  "kernelspec": {
   "display_name": "Python 3",
   "language": "python",
   "name": "python3"
  },
  "language_info": {
   "codemirror_mode": {
    "name": "ipython",
    "version": 3
   },
   "file_extension": ".py",
   "mimetype": "text/x-python",
   "name": "python",
   "nbconvert_exporter": "python",
   "pygments_lexer": "ipython3",
   "version": "3.7.8"
  }
 },
 "nbformat": 4,
 "nbformat_minor": 4
}
