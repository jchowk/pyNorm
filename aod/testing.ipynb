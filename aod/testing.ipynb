{
 "cells": [
  {
   "cell_type": "markdown",
   "metadata": {},
   "source": [
    "# Test \n",
    "\n",
    "Introduction here"
   ]
  },
  {
   "cell_type": "code",
   "execution_count": 1,
   "metadata": {},
   "outputs": [],
   "source": [
    "# Typical imports here\n",
    "import numpy as np\n",
    "import matplotlib.pyplot as plt\n",
    "import astropy.units as u\n",
    "import astropy.constants as c"
   ]
  },
  {
   "cell_type": "code",
   "execution_count": 2,
   "metadata": {},
   "outputs": [],
   "source": [
    "import pyND.absorption as abs"
   ]
  },
  {
   "cell_type": "markdown",
   "metadata": {},
   "source": [
    "## Test data"
   ]
  },
  {
   "cell_type": "code",
   "execution_count": 5,
   "metadata": {},
   "outputs": [],
   "source": [
    "from scipy.io import readsav\n",
    "\n",
    "input_filename = 'CIV1548.2i_o.save'\n",
    "# input_filename = 'rbs2005_SiII1260_o.save'\n",
    "spec = readsav(input_filename)"
   ]
  },
  {
   "cell_type": "code",
   "execution_count": 6,
   "metadata": {},
   "outputs": [
    {
     "data": {
      "text/plain": [
       "dict_keys(['v', 'f', 'ef', 'ion', 'wni', 'wavc', 'fval', 'gam', 'redshift', 'object', 'vlsr', 'name', 'ra', 'dec', 'gl', 'gb', 'z', 'ycon', 'ycon_sig', 'vnorm', 'fnorm', 'efnorm', 'efnorm1', 'efnorm2', 'sigma0', 'targname', 'sn', 'maxord', 'v1', 'v2', 'vaod1', 'vaod2', 'ncol', 'ncole1', 'ncole2', 'ncolez', 'w', 'w_es', 'w_ec', 'w_et', 'w_ez', 'va', 'vaerr', 'ba', 'baerr', 'm3', 'm3err', 'col3sig', 'col2sig', 'dv90', 'v90a', 'v90b', 'mask_cont', 'vel', 'flux', 'eflux'])"
      ]
     },
     "execution_count": 6,
     "metadata": {},
     "output_type": "execute_result"
    }
   ],
   "source": [
    "spec.keys()"
   ]
  },
  {
   "cell_type": "code",
   "execution_count": 16,
   "metadata": {},
   "outputs": [],
   "source": [
    "# FIX NON-WRITEABLE ARRAYS due to discontiguous memory\n",
    "for kkk in spec.keys():\n",
    "    if isinstance(spec[kkk],(np.ndarray)):\n",
    "        spec[kkk] = spec[kkk].copy()"
   ]
  },
  {
   "cell_type": "code",
   "execution_count": 17,
   "metadata": {},
   "outputs": [],
   "source": [
    "velocity = spec['vel'].copy()\n",
    "flux = spec['flux'].copy()\n",
    "flux_err = spec['eflux'].copy()\n",
    "continuum = spec['ycon'].copy()\n",
    "continuum_err = spec['ycon_sig'].copy()\n",
    "wavc=spec['wavc'].copy()\n",
    "fval=spec['fval'].copy()"
   ]
  },
  {
   "cell_type": "code",
   "execution_count": 18,
   "metadata": {},
   "outputs": [
    {
     "data": {
      "text/plain": [
       "(-500, 100)"
      ]
     },
     "execution_count": 18,
     "metadata": {},
     "output_type": "execute_result"
    },
    {
     "data": {
      "image/png": "[encoded data removed]",
      "text/plain": [
       "<Figure size 432x288 with 1 Axes>"
      ]
     },
     "metadata": {
      "image/png": {
       "height": 248,
       "width": 379
      },
      "needs_background": "light"
     },
     "output_type": "display_data"
    }
   ],
   "source": [
    "plt.plot(velocity,flux/continuum,drawstyle='steps-mid')\n",
    "plt.plot(velocity,flux_err/continuum,drawstyle='steps-mid')\n",
    "abs.plotaxes()\n",
    "plt.xlim(-500,100)"
   ]
  },
  {
   "cell_type": "markdown",
   "metadata": {},
   "source": [
    "### Test the new code"
   ]
  },
  {
   "cell_type": "code",
   "execution_count": 19,
   "metadata": {},
   "outputs": [],
   "source": [
    "# %run pyn_column\n",
    "# calc_column(velocity,flux,flux_err,\n",
    "#     continuum,continuum_err,wavc,fval)"
   ]
  },
  {
   "cell_type": "code",
   "execution_count": 20,
   "metadata": {},
   "outputs": [],
   "source": [
    "def xlimit(x, limits):\n",
    "\n",
    "   def _ret():  return idx1, idx2\n",
    "\n",
    "   # x1 = where(ravel(x >= xpos1))[0]  ;  x1 = x1[0]\n",
    "   # x2 = where(ravel(x > xpos2))[0]  ;  x2 = x2[0] - 1\n",
    "\n",
    "   idx1 = (np.abs(x - limits[0])).argmin()\n",
    "   idx2 = (np.abs(x - limits[1])).argmin()\n",
    "\n",
    "   return _ret()\n"
   ]
  },
  {
   "cell_type": "code",
   "execution_count": 33,
   "metadata": {},
   "outputs": [],
   "source": [
    "integration_limits=[spec['v1'],spec['v2']]\n",
    "integration_limits=[-300,-150]"
   ]
  },
  {
   "cell_type": "code",
   "execution_count": 40,
   "metadata": {},
   "outputs": [],
   "source": [
    "    # Some constants and flags\n",
    "    column_factor = 2.654e-15\n",
    "    flag_sat = False\n",
    "\n",
    "    velocity = spec['vel'].copy()\n",
    "    flux = spec['flux'].copy()\n",
    "    flux_err = spec['eflux'].copy()\n",
    "    continuum = spec['ycon'].copy()\n",
    "    continuum_err = spec['ycon_sig'].copy()\n",
    "    wavc=spec['wavc'].copy()\n",
    "    fval=spec['fval'].copy()\n",
    "\n",
    "    # Define the limits of the integration:\n",
    "    if not integration_limits:\n",
    "        int_idx = np.full(np.size(velocity),False)\n",
    "        xlim1, xlim2 = \\\n",
    "            xlimit(velocity,[spec['v1'],spec['v2']])\n",
    "        int_idx[xlim1:xlim2] = True\n",
    "    else:\n",
    "        int_idx = np.full(np.size(velocity),False)\n",
    "        xlim1, xlim2 = \\\n",
    "            xlimit(velocity,integration_limits)\n",
    "        int_idx[xlim1:xlim2] = True\n",
    "\n",
    "    #Define the velocity spacing\n",
    "    delv = np.median(velocity[1:]-velocity[:-1])\n",
    "\n",
    "    # Test for clearly saturated pixels:\n",
    "    idx_saturation = (flux <= 0.)\n",
    "    if idx_saturation.sum() > 0: flag_sat = True\n",
    "\n",
    "    # Fix saturation if it's present.\n",
    "    flux[idx_saturation] = np.abs(flux[idx_saturation])\n",
    "    flux[(flux==0)] = 2.*flux_err[(flux==0)]\n",
    "\n",
    "    # Create an optical depth array and its error\n",
    "    tau_array = np.log(continuum / flux)\n",
    "    tau_array_err = np.sqrt((flux_err/flux)**2)\n",
    "\n",
    "    tau_int = np.sum(tau_array[int_idx]*delv)\n",
    "    tau_int_err = \\\n",
    "     np.sqrt(np.sum((tau_array_err[int_idx]*delv)**2))\n",
    "\n",
    "    # Create an apparent column density array\n",
    "    nav_array = tau_array/(wavc*fval*column_factor)\n",
    "    nav_err = tau_array_err/(wavc*fval*column_factor)\n",
    "\n",
    "    # Integrate the apparent column density profiles\n",
    "    column = tau_int/(wavc*fval*column_factor)\n",
    "\n",
    "    # Error in the column\n",
    "    column_err = tau_int_err/(wavc*fval*column_factor)\n",
    "\n",
    "    # Continuum error\n",
    "    column_err_cont = \\\n",
    "        np.sum(((continuum_err[int_idx]/continuum[int_idx])*delv)) /\\\n",
    "         (wavc*fval*column_factor)\n",
    "\n",
    "    # Background uncertainty\n",
    "    z_eps = 0.01  # Fractional bg error\n",
    "    yc1 = continuum[int_idx]*(1.-z_eps)\n",
    "    y1  = flux[int_idx]-continuum[int_idx]*z_eps\n",
    "    tau1 = np.sum(np.log(yc1/y1)*delv)\n",
    "    col1 = tau1 / (wavc*fval*column_factor)\n",
    "    column_err_zero = np.abs(col1-column)\n",
    "\n",
    "    # Combine errors\n",
    "    column_err_total = np.sqrt(column_err**2 \\\n",
    "        +column_err_cont**2)\n",
    "\n"
   ]
  },
  {
   "cell_type": "code",
   "execution_count": 35,
   "metadata": {},
   "outputs": [
    {
     "data": {
      "text/plain": [
       "(13.09315733229834, 0.15186661302157617)"
      ]
     },
     "execution_count": 35,
     "metadata": {},
     "output_type": "execute_result"
    }
   ],
   "source": [
    "np.log10(column),column_err/column*np.log10(np.e)"
   ]
  },
  {
   "cell_type": "markdown",
   "metadata": {},
   "source": [
    "#### $\\tau_a(v)$ profile"
   ]
  },
  {
   "cell_type": "code",
   "execution_count": 97,
   "metadata": {},
   "outputs": [
    {
     "data": {
      "text/plain": [
       "(-1, 5)"
      ]
     },
     "execution_count": 97,
     "metadata": {},
     "output_type": "execute_result"
    },
    {
     "data": {
      "image/png": "[encoded data removed]",
      "text/plain": [
       "<Figure size 432x288 with 1 Axes>"
      ]
     },
     "metadata": {
      "image/png": {
       "height": 250,
       "width": 395
      },
      "needs_background": "light"
     },
     "output_type": "display_data"
    }
   ],
   "source": [
    "plt.plot(velocity,tau_array,drawstyle='steps-mid')\n",
    "plt.plot(velocity,tau_array_err,drawstyle='steps-mid')\n",
    "plt.plot(velocity[int_idx],tau_array[int_idx],color='red',drawstyle='steps-mid')\n",
    "abs.plotzero()\n",
    "plt.ylabel('$\\\\tau_a(v)$')\n",
    "plt.xlim(-400,-100)\n",
    "plt.ylim(-1,5)"
   ]
  },
  {
   "cell_type": "markdown",
   "metadata": {},
   "source": [
    "#### $N_a(v)$ profile"
   ]
  },
  {
   "cell_type": "code",
   "execution_count": 98,
   "metadata": {},
   "outputs": [
    {
     "data": {
      "text/plain": [
       "(-100000000000.0, 1000000000000.0)"
      ]
     },
     "execution_count": 98,
     "metadata": {},
     "output_type": "execute_result"
    },
    {
     "data": {
      "image/png": "[encoded data removed]",
      "text/plain": [
       "<Figure size 432x288 with 1 Axes>"
      ]
     },
     "metadata": {
      "image/png": {
       "height": 257,
       "width": 398
      },
      "needs_background": "light"
     },
     "output_type": "display_data"
    }
   ],
   "source": [
    "plt.plot(velocity,nav_array,drawstyle='steps-mid')\n",
    "plt.plot(velocity,nav_err,drawstyle='steps-mid')\n",
    "plt.plot(velocity[int_idx],nav_array[int_idx],color='red',drawstyle='steps-mid')\n",
    "abs.plotzero()\n",
    "plt.ylabel('$N_a(v)$')\n",
    "plt.xlim(-500,-100)\n",
    "plt.ylim(-0.1e12,1e12)"
   ]
  },
  {
   "cell_type": "code",
   "execution_count": 11,
   "metadata": {},
   "outputs": [
    {
     "name": "stdout",
     "output_type": "stream",
     "text": [
      "The autoreload extension is already loaded. To reload it, use:\n",
      "  %reload_ext autoreload\n"
     ]
    }
   ],
   "source": [
    "%load_ext autoreload\n",
    "%autoreload 2"
   ]
  },
  {
   "cell_type": "markdown",
   "metadata": {},
   "source": [
    "```\n",
    "\n",
    "```\n",
    "# Testing `pyNorm.aod.pyn_column`"
   ]
  },
  {
   "cell_type": "code",
   "execution_count": 49,
   "metadata": {},
   "outputs": [],
   "source": [
    "from scipy.io import readsav\n",
    "\n",
    "input_filename = 'CIV1548.2i_o.save'\n",
    "# input_filename = 'rbs2005_SiII1260_o.save'\n",
    "spec = readsav(input_filename)"
   ]
  },
  {
   "cell_type": "code",
   "execution_count": 33,
   "metadata": {},
   "outputs": [],
   "source": [
    "integration_limits=[spec['v1'],spec['v2']]\n",
    "integration_limits=[-300,-150]"
   ]
  },
  {
   "cell_type": "code",
   "execution_count": 50,
   "metadata": {},
   "outputs": [],
   "source": [
    "from pyNorm.aod import pyn_column"
   ]
  },
  {
   "cell_type": "markdown",
   "metadata": {},
   "source": [
    "#### Calculate the column density using the velocity limits in the save file"
   ]
  },
  {
   "cell_type": "code",
   "execution_count": 51,
   "metadata": {},
   "outputs": [
    {
     "data": {
      "text/plain": [
       "(12.715295611673989, 0.2667286587073857)"
      ]
     },
     "execution_count": 51,
     "metadata": {},
     "output_type": "execute_result"
    }
   ],
   "source": [
    "spec_out = pyn_column(spec)\n",
    "spec_out['ncol'], spec_out['necol1']"
   ]
  },
  {
   "cell_type": "markdown",
   "metadata": {},
   "source": [
    "#### Calculate the column density using the velocity limits from above"
   ]
  },
  {
   "cell_type": "code",
   "execution_count": 45,
   "metadata": {},
   "outputs": [
    {
     "data": {
      "text/plain": [
       "(13.09315733229834, 0.15471638852989902)"
      ]
     },
     "execution_count": 45,
     "metadata": {},
     "output_type": "execute_result"
    }
   ],
   "source": [
    "spec_out = pyn_column(spec,integration_limits)\n",
    "spec_out['ncol'], spec_out['necol1']"
   ]
  },
  {
   "cell_type": "markdown",
   "metadata": {},
   "source": [
    "#### Calculate the column density using arbitrary limits"
   ]
  },
  {
   "cell_type": "code",
   "execution_count": 47,
   "metadata": {},
   "outputs": [
    {
     "data": {
      "text/plain": [
       "(13.228297797939614, 0.07199311585119089)"
      ]
     },
     "execution_count": 47,
     "metadata": {},
     "output_type": "execute_result"
    }
   ],
   "source": [
    "spec_out = pyn_column(spec,integration_limits = [-100,-50])\n",
    "spec_out['ncol'], spec_out['necol1']"
   ]
  }
 ],
 "metadata": {
  "kernelspec": {
   "display_name": "Python 3",
   "language": "python",
   "name": "python3"
  },
  "language_info": {
   "codemirror_mode": {
    "name": "ipython",
    "version": 3
   },
   "file_extension": ".py",
   "mimetype": "text/x-python",
   "name": "python",
   "nbconvert_exporter": "python",
   "pygments_lexer": "ipython3",
   "version": "3.7.3"
  }
 },
 "nbformat": 4,
 "nbformat_minor": 4
}
