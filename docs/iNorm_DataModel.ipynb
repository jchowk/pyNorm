{
 "cells": [
  {
   "cell_type": "markdown",
   "metadata": {},
   "source": [
    "# `iNorm` data model"
   ]
  },
  {
   "cell_type": "code",
   "execution_count": 1,
   "metadata": {},
   "outputs": [],
   "source": [
    "from scipy.io import readsav\n",
    "\n",
    "input_filename = 'CIV1548.2i_o.save'\n",
    "spec = readsav(input_filename)"
   ]
  },
  {
   "cell_type": "markdown",
   "metadata": {},
   "source": [
    "* `v` - Velocity [LSR?]\n",
    "* `f` - Flux\n",
    "* `ef` - Flux error\n",
    "* `ion` - Ion \n",
    "* `wni` - iNorm wavelength label\n",
    "* `wavc` - Central wavelength\n",
    "* `fval` - f-value\n",
    "* `gam` - Damping constant $\\gamma$\n",
    "* `redshift` - Assumed absorber redshift [redundant with `z`]\n",
    "* `object` - Object name [redundant with `name`, `targname`]\n",
    "* `vlsr` - LSR velocity correction\n",
    "* `name` - Object name [redundant with `name`, `targname`]\n",
    "* `ra` - Right ascension\n",
    "* `dec` - Declination\n",
    "* `gl` - Galactic latitude\n",
    "* `gb` - Galactic longitude\n",
    "* `z` - Assumed absorber redshift [redundant with `redshift`]\n",
    "* `ycon` - Fitted continuum \n",
    "* `ycon_sig` - Continuum error\n",
    "* `vnorm` - Velocity for normalized spectrum\n",
    "* `fnorm` - Flux for normalized spectrum \n",
    "* `efnorm` - Error for normalized spectrum\n",
    "* `efnorm1` - ?\n",
    "* `efnorm2` - ?\n",
    "* `sigma0` - ? \n",
    "* `targname` - Object name [redundant with `name`, `targname`]\n",
    "* `sn` - SNR?\n",
    "* `maxord` - Fitting order?\n",
    "* `v1` - Lower [left] integration limit [redundant with `vaod1`]\n",
    "* `v2` - Upper [right] integration limit [redundant with `vaod2`]\n",
    "* `vaod1` - Lower [left] integration limit [redundant with `v1`]\n",
    "* `vaod2` - Upper [right] integration limit [redundant with `v2`]\n",
    "* `ncol` - Log10 Na \n",
    "* `ncole1`\n",
    "* `ncole2`\n",
    "* `ncolez`\n",
    "* `w` - Equivalent width [mA]\n",
    "* `w_es` - Equivalent width statistical error [mA]\n",
    "* `w_ec` - Equivalent width continuum error [mA]\n",
    "* `w_et` - Equivalent width total error [mA]\n",
    "* `w_ez` - Equivalent width zero point error [mA]\n",
    "* `va` - Average velocity [first moment] [km/s]\n",
    "* `vaerr` - Average velocity [first moment] error [km/s]\n",
    "* `ba` - Velocity width [second moment] b-value [km/s]\n",
    "* `baerr` - Velocity width [second moment] b-value error [km/s]\n",
    "* `m3` - Skewness [third moment]\n",
    "* `m3err` - Skewness [third moment] error\n",
    "* `col3sig` - Detection limit at 3$\\sigma$ from linear CoG\n",
    "* `col2sig` - Detection limit at 3$\\sigma$ from linear CoG\n",
    "* `dv90` - $\\Delta v_{90}$: 90% of EW [km/s]\n",
    "* `v90a` - $v_{90,a}$: 5% of EW velocity limit [km/s]\n",
    "* `v90b` - $v_{90,b}$: 95% of EW velocity limit [km/s]\n",
    "* `mask_cont`\n",
    "* `vel`\n",
    "* `flux`\n",
    "* `eflux`"
   ]
  },
  {
   "cell_type": "code",
   "execution_count": null,
   "metadata": {},
   "outputs": [],
   "source": []
  }
 ],
 "metadata": {
  "kernelspec": {
   "display_name": "Python 3",
   "language": "python",
   "name": "python3"
  },
  "language_info": {
   "codemirror_mode": {
    "name": "ipython",
    "version": 3
   },
   "file_extension": ".py",
   "mimetype": "text/x-python",
   "name": "python",
   "nbconvert_exporter": "python",
   "pygments_lexer": "ipython3",
   "version": "3.7.8"
  }
 },
 "nbformat": 4,
 "nbformat_minor": 4
}
