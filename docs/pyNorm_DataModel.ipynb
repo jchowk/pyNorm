{
 "cells": [
  {
   "cell_type": "markdown",
   "metadata": {},
   "source": [
    "# `pyNorm` data model"
   ]
  },
  {
   "cell_type": "markdown",
   "metadata": {},
   "source": [
    "* `ion` - Ion\n",
    "* `wni` - iNorm wavelength label\n",
    "* `wavc` - Central wavelength\n",
    "* `fval` - f-value\n",
    "* `gamma` - Damping constant $\\gamma$\n",
    "* `redshift` - Assumed absorber redshift [redundant with `z`]\n",
    "* `targname` - Object name used for observations [in header]\n",
    "* `object` - Object name [preferred, e.g., from Simbad; may be different than targname]\n",
    "* `vlsr` - LSR velocity correction\n",
    "* `RA` - Right ascension\n",
    "* `Dec` - Declination\n",
    "* `gl` - Galactic latitude\n",
    "* `gb` - Galactic longitude\n",
    "* `vel` - Velocity [LSR?]\n",
    "* `flux` - Flux\n",
    "* `eflux` - Flux error\n",
    "* `wave` - Wavelength array [LSR frame?]\n",
    "* `contin` - Continuum\n",
    "* `contin_err` - Error in the continuum points\n",
    "* `contin_order` - Order of fitted Legendre polynomial\n",
    "* `contin_coeff` - Coefficients of fitted Legendre polynomial\n",
    "* `contin_mask_bits` - Continuum mask (bits: 1 = use)\n",
    "* `contin_mask_bool` - Continuum mask (Boolean)\n",
    "* `contin_v1` - Starting velocities of continuum regions\n",
    "* `contin_v2` - Stopping velocities of continuum regions\n",
    "* `vnorm` - Velocity for normalized spectrum\n",
    "* `fnorm` - Flux for normalized spectrum\n",
    "* `fnorm_err` - Error of normalized spectrum\n",
    "* `fnorm_err_contin` - Continuum error of normalized spectrum\n",
    "* `fnorm_err_stat` - Statistical error of normalized spectrum\n",
    "* `Nav` - Apparent column density profile, Na(v) [cm^-2]\n",
    "* `Nav_err` - Apparent column density error\n",
    "* `Nav_sat` - Apparent column density saturation flag (True = saturated)\n",
    "* `SNR` - Median signal-to-noise ratio (SNR) in continuum regions.\n",
    "* `v1` - Lower [left] integration limit \n",
    "* `v2` - Upper [right] integration limit\n",
    "* `EW` - Equivalent width [mA]\n",
    "* `EW_err` - Equivalent width total error [mA]     \n",
    "* `EW_err_stat` - Equivalent width statistical error [mA]\n",
    "* `EW_err_cont` - Equivalent width continuum error [mA]\n",
    "* `EW_err_zero` - Equivalent width zero point error [mA]\n",
    "* `EW_cumulative` - Cumulative EW over the line profile [mA]\n",
    "* `ncol_linearCoG` - log N from linear CoG\n",
    "* `ncol_linear2sig` - Detection limit at 3$\\sigma$ from linear CoG\n",
    "* `ncol_linear3sig` - Detection limit at 3$\\sigma$ from linear CoG\n",
    "* `detection_2sig` - Flag indicating EW is detected at 2sigma [True/False]\n",
    "* `detection_3sig` - Flag indicating EW is detected at 3sigma [True/False]\n",
    "* `ncol` - Log10 Na (apparent column density)\n",
    "* `ncol_err_lo` - Negative error in log10 Na (apparent column density)\n",
    "* `ncol_err_hi` - Positive error in log10 Na (apparent column density)\n",
    "* `flag_sat` - Flag denoting presence of obvious saturation [True/False]\n",
    "* `va` - Average velocity [first moment] [km/s]\n",
    "* `va_err` - Average velocity [first moment] error [km/s]\n",
    "* `ba` - Velocity width [second moment] b-value [km/s]\n",
    "* `ba_err` - Velocity width [second moment] b-value error [km/s]\n",
    "* `m3` - Skewness [third moment]\n",
    "* `m3_err` - Skewness [third moment] error\n",
    "* `dv90` - $\\Delta v_{90}$: 90% of EW [km/s]\n",
    "* `v90a` - $v_{90,a}$: 5% of EW velocity limit [km/s]\n",
    "* `v90b` - $v_{90,b}$: 95% of EW velocity limit [km/s]\n"
   ]
  },
  {
   "cell_type": "code",
   "execution_count": null,
   "metadata": {},
   "outputs": [],
   "source": []
  }
 ],
 "metadata": {
  "kernelspec": {
   "display_name": "Python 3",
   "language": "python",
   "name": "python3"
  },
  "language_info": {
   "codemirror_mode": {
    "name": "ipython",
    "version": 3
   },
   "file_extension": ".py",
   "mimetype": "text/x-python",
   "name": "python",
   "nbconvert_exporter": "python",
   "pygments_lexer": "ipython3",
   "version": "3.7.8"
  }
 },
 "nbformat": 4,
 "nbformat_minor": 4
}
